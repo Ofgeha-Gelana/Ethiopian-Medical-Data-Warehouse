{
 "cells": [
  {
   "cell_type": "code",
   "execution_count": 1,
   "metadata": {},
   "outputs": [],
   "source": [
    "import os\n",
    "os.chdir('..')\n",
    "import warnings\n",
    "warnings.filterwarnings('ignore')\n",
    "import pandas as pd"
   ]
  },
  {
   "cell_type": "code",
   "execution_count": 2,
   "metadata": {},
   "outputs": [
    {
     "name": "stdout",
     "output_type": "stream",
     "text": [
      "d:\\pro\\10 acadamy\\Ethiopian-Medical-Data-Warehouse\n"
     ]
    }
   ],
   "source": [
    "print(os.getcwd())"
   ]
  },
  {
   "cell_type": "markdown",
   "metadata": {},
   "source": [
    "### Data scraping and collection pipeline\n"
   ]
  },
  {
   "cell_type": "code",
   "execution_count": 3,
   "metadata": {},
   "outputs": [],
   "source": [
    "from scripts.createW_H_Impl import start_scraping"
   ]
  },
  {
   "cell_type": "code",
   "execution_count": 4,
   "metadata": {},
   "outputs": [],
   "source": [
    "channel = ['@DoctorsET','@lobelia4cosmetics','@yetenaweg','@EAHCI','@CheMed123']\n"
   ]
  },
  {
   "cell_type": "code",
   "execution_count": 5,
   "metadata": {},
   "outputs": [
    {
     "name": "stderr",
     "output_type": "stream",
     "text": [
      "2025-01-31 10:55:43,252 - INFO - Scrapping data...\n",
      "2025-01-31 10:55:43,255 - INFO - Connecting to 149.154.167.51:443/TcpFull...\n",
      "2025-01-31 10:55:46,025 - INFO - Connection to 149.154.167.51:443/TcpFull complete!\n",
      "2025-01-31 10:55:59,979 - INFO - Phone migrated to 4\n",
      "2025-01-31 10:56:00,156 - INFO - Reconnecting to new data center 4\n",
      "2025-01-31 10:56:00,362 - INFO - Disconnecting from 149.154.167.51:443/TcpFull...\n",
      "2025-01-31 10:56:00,362 - INFO - Disconnection from 149.154.167.51:443/TcpFull complete!\n",
      "2025-01-31 10:56:00,362 - INFO - Connecting to 149.154.167.91:443/TcpFull...\n",
      "2025-01-31 10:56:02,193 - INFO - Connection to 149.154.167.91:443/TcpFull complete!\n"
     ]
    },
    {
     "name": "stdout",
     "output_type": "stream",
     "text": [
      "Signed in successfully as Ofgeha Gelana; remember to not break the ToS or you will risk an account ban!\n",
      "Scraping historical data from @DoctorsET (Doctors Ethiopia)...\n"
     ]
    },
    {
     "name": "stderr",
     "output_type": "stream",
     "text": [
      "2025-01-31 10:56:16,160 - INFO - Finished scraping @DoctorsET\n"
     ]
    },
    {
     "name": "stdout",
     "output_type": "stream",
     "text": [
      "Scraping historical data from @lobelia4cosmetics (Lobelia pharmacy and cosmetics)...\n"
     ]
    },
    {
     "name": "stderr",
     "output_type": "stream",
     "text": [
      "2025-01-31 10:56:16,560 - INFO - Finished scraping @lobelia4cosmetics\n"
     ]
    },
    {
     "name": "stdout",
     "output_type": "stream",
     "text": [
      "Scraping historical data from @yetenaweg (የጤና ወግ - የጤና መረጃ)...\n"
     ]
    },
    {
     "name": "stderr",
     "output_type": "stream",
     "text": [
      "2025-01-31 10:56:17,017 - INFO - Finished scraping @yetenaweg\n"
     ]
    },
    {
     "name": "stdout",
     "output_type": "stream",
     "text": [
      "Scraping historical data from @EAHCI (ETHIO-AMERICAN MEDICAL TRAININGS( CPD ) & HEALTH CONSULTANCY CENTER)...\n"
     ]
    },
    {
     "name": "stderr",
     "output_type": "stream",
     "text": [
      "2025-01-31 10:56:17,423 - INFO - Finished scraping @EAHCI\n"
     ]
    },
    {
     "name": "stdout",
     "output_type": "stream",
     "text": [
      "Scraping historical data from @CheMed123 (CheMed)...\n"
     ]
    },
    {
     "name": "stderr",
     "output_type": "stream",
     "text": [
      "2025-01-31 10:56:17,889 - INFO - Finished scraping @CheMed123\n",
      "2025-01-31 10:56:17,890 - INFO - Listening for real-time messages...\n"
     ]
    }
   ],
   "source": [
    "start_scraping(channel)"
   ]
  }
 ],
 "metadata": {
  "kernelspec": {
   "display_name": ".venv",
   "language": "python",
   "name": "python3"
  },
  "language_info": {
   "codemirror_mode": {
    "name": "ipython",
    "version": 3
   },
   "file_extension": ".py",
   "mimetype": "text/x-python",
   "name": "python",
   "nbconvert_exporter": "python",
   "pygments_lexer": "ipython3",
   "version": "3.12.2"
  }
 },
 "nbformat": 4,
 "nbformat_minor": 2
}
